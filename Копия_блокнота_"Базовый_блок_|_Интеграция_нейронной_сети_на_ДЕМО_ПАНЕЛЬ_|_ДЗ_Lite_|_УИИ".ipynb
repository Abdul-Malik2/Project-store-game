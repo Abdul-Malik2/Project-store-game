{
  "cells": [
    {
      "cell_type": "markdown",
      "metadata": {
        "id": "view-in-github",
        "colab_type": "text"
      },
      "source": [
        "<a href=\"https://colab.research.google.com/github/Abdul-Malik2/Project-store-game/blob/main/%D0%9A%D0%BE%D0%BF%D0%B8%D1%8F_%D0%B1%D0%BB%D0%BE%D0%BA%D0%BD%D0%BE%D1%82%D0%B0_%22%D0%91%D0%B0%D0%B7%D0%BE%D0%B2%D1%8B%D0%B9_%D0%B1%D0%BB%D0%BE%D0%BA_%7C_%D0%98%D0%BD%D1%82%D0%B5%D0%B3%D1%80%D0%B0%D1%86%D0%B8%D1%8F_%D0%BD%D0%B5%D0%B9%D1%80%D0%BE%D0%BD%D0%BD%D0%BE%D0%B9_%D1%81%D0%B5%D1%82%D0%B8_%D0%BD%D0%B0_%D0%94%D0%95%D0%9C%D0%9E_%D0%9F%D0%90%D0%9D%D0%95%D0%9B%D0%AC_%7C_%D0%94%D0%97_Lite_%7C_%D0%A3%D0%98%D0%98%22.ipynb\" target=\"_parent\"><img src=\"https://colab.research.google.com/assets/colab-badge.svg\" alt=\"Open In Colab\"/></a>"
      ]
    },
    {
      "cell_type": "markdown",
      "metadata": {
        "id": "c6nTn8IaLGn_"
      },
      "source": [
        "Необходимо создать, обучить нейронную сеть и упаковать её в архив для загрузки на демо-панель:\n",
        "* создать нейронную сеть для распознавания цифр из MNIST\n",
        "* сохраните веса (модель)\n",
        "* подготовить запуск модели \"из коробки\"\n",
        "* подготовить архив с готовой нейронной сетью для загрузки в демо-панель\n"
      ]
    },
    {
      "cell_type": "markdown",
      "metadata": {
        "id": "q2h2VWiKljT_"
      },
      "source": [
        "###загрузка занных"
      ]
    },
    {
      "cell_type": "code",
      "execution_count": null,
      "metadata": {
        "colab": {
          "base_uri": "https://localhost:8080/"
        },
        "id": "4dF5FRSyKWq0",
        "outputId": "42fd8e21-ad15-4199-f025-cf68ad5c49db"
      },
      "outputs": [
        {
          "name": "stdout",
          "output_type": "stream",
          "text": [
            "Downloading data from https://storage.googleapis.com/tensorflow/tf-keras-datasets/mnist.npz\n",
            "11490434/11490434 [==============================] - 0s 0us/step\n"
          ]
        }
      ],
      "source": [
        "# загрузка датасета MNIST\n",
        "\n",
        "from tensorflow.keras.datasets import mnist\n",
        "(x_train, y_train), (x_test, y_test) = mnist.load_data()"
      ]
    },
    {
      "cell_type": "code",
      "execution_count": null,
      "metadata": {
        "id": "whZ8b22aOrW8"
      },
      "outputs": [],
      "source": [
        "# Подключение класса для работы с изображением\n",
        "from PIL import Image, ImageOps, ImageEnhance\n",
        "\n",
        "# Последовательная модель НС\n",
        "from tensorflow.keras.models import Sequential\n",
        "\n",
        "# Основные слои\n",
        "from tensorflow.keras.layers import Dense, Activation, Dropout, BatchNormalization, Conv2D, MaxPooling2D, Flatten, SpatialDropout2D\n",
        "\n",
        "# Утилиты для to_categorical()\n",
        "from tensorflow.keras import utils\n",
        "\n",
        "# Алгоритмы оптимизации для обучения модели\n",
        "from tensorflow.keras.optimizers import Adam\n",
        "\n",
        "# Библиотека для работы с массивами\n",
        "import numpy as np\n",
        "\n",
        "import random\n",
        "\n",
        "#библиотека пандас\n",
        "import pandas as pd\n",
        "\n",
        "# метод из библиотеки keras\n",
        "from keras.preprocessing import image\n",
        "\n",
        "# Отрисовка графиков\n",
        "import matplotlib.pyplot as plt\n",
        "\n",
        "# Разделение данных на выборки\n",
        "from sklearn.model_selection import train_test_split\n",
        "\n",
        "# Для загрузки датасета\n",
        "from sklearn.datasets import load_wine\n",
        "\n",
        "#######################################\n",
        "\n",
        "# Для управление директориями и путями файловой системы\n",
        "import os\n",
        "\n",
        "# Библиотека компьютерного зрения, для обработки изображений и видео\n",
        "import cv2\n",
        "\n",
        "\n",
        "# Отрисовка изображений в ноутбуке, а не в консоли или файле\n",
        "%matplotlib inline"
      ]
    },
    {
      "cell_type": "code",
      "execution_count": null,
      "metadata": {
        "colab": {
          "base_uri": "https://localhost:8080/",
          "height": 146
        },
        "id": "0kJkZPbfO3jL",
        "outputId": "718d7c7a-d101-4206-cc42-9b6b444b26b6"
      },
      "outputs": [
        {
          "data": {
            "image/png": "[encoded data removed]",
            "text/plain": [
              "<Figure size 2500x300 with 10 Axes>"
            ]
          },
          "metadata": {},
          "output_type": "display_data"
        }
      ],
      "source": [
        "# вывод изображений каждого класса для ознакомления с датасетом\n",
        "\n",
        "fig, axs = plt.subplots(1, 10, figsize=(25,3)) # создаем полотно для 10 графиков с размером 25 на 3\n",
        "for i in range(10):\n",
        "  label_indexes = np.where(y_train == i)[0] # получаем список из индексов положений класса i в y_train\n",
        "  index = random.choice(label_indexes) # выбирает случайный индекс из списка созданного выше\n",
        "  img = x_train[index] # выбираем из x_train нужное положение\n",
        "  axs[i].imshow(Image.fromarray(img), cmap='gray') # выводим изображение\n",
        "\n",
        "\n",
        "plt.show()"
      ]
    },
    {
      "cell_type": "code",
      "execution_count": null,
      "metadata": {
        "colab": {
          "base_uri": "https://localhost:8080/",
          "height": 406
        },
        "id": "QmPvrPCUoMV3",
        "outputId": "6706cbde-8525-4869-9f90-4c741e319b80"
      },
      "outputs": [
        {
          "data": {
            "image/png": "[encoded data removed]",
            "text/plain": [
              "<Figure size 640x480 with 1 Axes>"
            ]
          },
          "metadata": {},
          "output_type": "display_data"
        }
      ],
      "source": [
        "import pandas as pd\n",
        "import numpy as np\n",
        "import matplotlib.pyplot as plt\n",
        "\n",
        "# Загрузка данных из файла с указанием полного пути\n",
        "data = pd.read_csv('/content/sample_data/mnist_test.csv')\n",
        "\n",
        "# Преобразование данных в массив NumPy\n",
        "pixels = data.iloc[3, 1:].values\n",
        "pixels = np.array(pixels, dtype='uint8')\n",
        "\n",
        "# Изменение формы массива в 2D-матрицу размером 28x28\n",
        "image = pixels.reshape((28, 28))\n",
        "\n",
        "# Отображение изображения\n",
        "plt.imshow(image, cmap='gray')\n",
        "plt.axis('off')\n",
        "plt.show()\n"
      ]
    },
    {
      "cell_type": "code",
      "execution_count": null,
      "metadata": {
        "colab": {
          "base_uri": "https://localhost:8080/"
        },
        "id": "qq_p2LsZO5Ba",
        "outputId": "210196ce-e3b9-42d4-e391-9eeb204c4975"
      },
      "outputs": [
        {
          "name": "stdout",
          "output_type": "stream",
          "text": [
            "x_train: (60000, 28, 28)\n",
            "x_test: (10000, 28, 28)\n",
            "\n",
            "y_train: (60000,)\n",
            "y_test: (10000,)\n",
            "x_train: (60000, 28, 28, 1)\n",
            "x_test: (10000, 28, 28, 1)\n",
            "\n",
            "y_train: (60000, 10)\n",
            "y_test: (10000, 10)\n"
          ]
        }
      ],
      "source": [
        "# Добавляю ось, чтобы было явно видно сколько каналов цвета\n",
        "print('x_train:', x_train.shape)\n",
        "print('x_test:', x_test.shape)\n",
        "print()\n",
        "print('y_train:', y_train.shape)\n",
        "print('y_test:', y_test.shape)\n",
        "\n",
        "# добавляем размерность массиву mnist, чтобы сеть поняла что это чб, и нормирую данные\n",
        "x_train = x_train.reshape(x_train.shape[0], x_train.shape[1], x_train.shape[2], 1) / 255\n",
        "x_test = x_test.reshape(x_test.shape[0], x_test.shape[1], x_test.shape[2], 1) / 255\n",
        "\n",
        "# преобразуем выборки с ответами в OHE\n",
        "y_train = utils.to_categorical(y_train, 10)\n",
        "y_test = utils.to_categorical(y_test, 10)\n",
        "\n",
        "# посмотрим форматы выборок перед обучением\n",
        "print('x_train:', x_train.shape)\n",
        "print('x_test:', x_test.shape)\n",
        "print()\n",
        "print('y_train:', y_train.shape)\n",
        "print('y_test:', y_test.shape)"
      ]
    },
    {
      "cell_type": "code",
      "execution_count": null,
      "metadata": {
        "id": "ADyip2LVP0ZT"
      },
      "outputs": [],
      "source": [
        "from operator import index\n",
        "import pandas as pd\n",
        "result = pd.DataFrame()"
      ]
    },
    {
      "cell_type": "markdown",
      "metadata": {
        "id": "3Yivs6zZlv-9"
      },
      "source": [
        "##обучение модели"
      ]
    },
    {
      "cell_type": "code",
      "execution_count": null,
      "metadata": {
        "id": "nWxrMt5PP5C5"
      },
      "outputs": [],
      "source": [
        "# Г И П Е Р П А Р А М Е Т Р Ы:\n",
        "\n",
        "# количество нейронов входящего слоя\n",
        "incomingLayer = 32\n",
        "\n",
        "# количество фильтров входящего слоя\n",
        "incomingFiltr = 32\n",
        "\n",
        "# количество фильтров (ядер)\n",
        "numberFilters = 64\n",
        "\n",
        "# количество свёрточных слоёв\n",
        "convolutionalLayers = 3\n",
        "\n",
        "# размер фильтра\n",
        "sizeFilters = 3,3\n",
        "\n",
        "# размер окна пулинга\n",
        "poolSize= 3,3\n",
        "\n",
        "IMG_WIDTH           = 28 # Ширина изображения для нейросети\n",
        "IMG_HEIGHT          = 28  # Высота изображения для нейросети\n",
        "IMG_CHANNELS        = 1   # Количество каналов (для RGB равно 3, для Grey равно 1)\n",
        "\n",
        "# количество нейронов выходного слоя\n",
        "CLASS_COUNT = 10\n",
        "\n",
        "# количество скрытых слоёв\n",
        "allHiddenLayers = 1\n",
        "\n",
        "# количество нейронов скрытых слоёв\n",
        "hiddenLayers = 256\n",
        "\n",
        "# размер batch_size\n",
        "batchSize = 128\n",
        "\n",
        "# количество эпох\n",
        "numbersEpochs = 15\n",
        "\n",
        "# функция ошибки\n",
        "lossFunction = 'categorical_crossentropy' # 'categorical_crossentropy' 'sparse_categorical_crossentropy' 'mean_squared_error'\n",
        "\n",
        "# rmsprop = optimizers.RMSprop(learning_rate=0.001, rho=0.9)\n",
        "\n",
        "\n",
        "# оптимизатор\n",
        "myOptimizer = Adam #'Adam' 'rmsprop'\n",
        "\n",
        "# шаг оптимизатора\n",
        "LEARNING_RATE = 1e-3 # 0.0001\n",
        "\n",
        "\n",
        "\n",
        "# М О Д Е Л Ь:\n",
        "\n",
        "model = Sequential()\n",
        "#model.add(Dropout(0.5, input_shape=(x_train.shape[1],)))\n",
        "#model.add(Dense(units=incomingLayer, input_shape=(x_train.shape[1],)))\n",
        "\n",
        "model.add(Conv2D(incomingFiltr, (3, 3), padding='same', activation='relu', input_shape=(IMG_HEIGHT, IMG_WIDTH, IMG_CHANNELS)))\n",
        "\n",
        "\n",
        "for laeer in range(convolutionalLayers):\n",
        "\n",
        "    model.add(Conv2D(numberFilters, (sizeFilters), padding='same', activation='relu'))\n",
        "    model.add(MaxPooling2D(pool_size=(poolSize)))\n",
        "    model.add(SpatialDropout2D(0.25))\n",
        "\n",
        "model.add(Flatten()) # уплощаем все слои в одну линию\n",
        "\n",
        "for laeer in range(allHiddenLayers):\n",
        "\n",
        "    model.add(Dense(hiddenLayers, activation='relu'))\n",
        "    model.add(Dropout(0.5))\n",
        "    model.add(BatchNormalization())\n",
        "\n",
        "model.add(Dense(CLASS_COUNT, activation='softmax'))\n",
        "\n",
        "#model.compile(loss='categorical_crossentropy', optimizer=Adam (learning_rate=0.001), metrics=['accuracy'])#(learning_rate=0.001)\n",
        "model.compile(loss=lossFunction, optimizer=myOptimizer (LEARNING_RATE), metrics=['accuracy'])\n",
        "\n"
      ]
    },
    {
      "cell_type": "code",
      "execution_count": null,
      "metadata": {
        "colab": {
          "base_uri": "https://localhost:8080/"
        },
        "id": "rk6LO4wJQGr3",
        "outputId": "87388450-44d2-43ee-dac0-1986b89bacd7"
      },
      "outputs": [
        {
          "name": "stdout",
          "output_type": "stream",
          "text": [
            "Model: \"sequential\"\n",
            "_________________________________________________________________\n",
            " Layer (type)                Output Shape              Param #   \n",
            "=================================================================\n",
            " conv2d (Conv2D)             (None, 28, 28, 32)        320       \n",
            "                                                                 \n",
            " conv2d_1 (Conv2D)           (None, 28, 28, 64)        18496     \n",
            "                                                                 \n",
            " max_pooling2d (MaxPooling2  (None, 9, 9, 64)          0         \n",
            " D)                                                              \n",
            "                                                                 \n",
            " spatial_dropout2d (Spatial  (None, 9, 9, 64)          0         \n",
            " Dropout2D)                                                      \n",
            "                                                                 \n",
            " conv2d_2 (Conv2D)           (None, 9, 9, 64)          36928     \n",
            "                                                                 \n",
            " max_pooling2d_1 (MaxPoolin  (None, 3, 3, 64)          0         \n",
            " g2D)                                                            \n",
            "                                                                 \n",
            " spatial_dropout2d_1 (Spati  (None, 3, 3, 64)          0         \n",
            " alDropout2D)                                                    \n",
            "                                                                 \n",
            " conv2d_3 (Conv2D)           (None, 3, 3, 64)          36928     \n",
            "                                                                 \n",
            " max_pooling2d_2 (MaxPoolin  (None, 1, 1, 64)          0         \n",
            " g2D)                                                            \n",
            "                                                                 \n",
            " spatial_dropout2d_2 (Spati  (None, 1, 1, 64)          0         \n",
            " alDropout2D)                                                    \n",
            "                                                                 \n",
            " flatten (Flatten)           (None, 64)                0         \n",
            "                                                                 \n",
            " dense (Dense)               (None, 256)               16640     \n",
            "                                                                 \n",
            " dropout (Dropout)           (None, 256)               0         \n",
            "                                                                 \n",
            " batch_normalization (Batch  (None, 256)               1024      \n",
            " Normalization)                                                  \n",
            "                                                                 \n",
            " dense_1 (Dense)             (None, 10)                2570      \n",
            "                                                                 \n",
            "=================================================================\n",
            "Total params: 112906 (441.04 KB)\n",
            "Trainable params: 112394 (439.04 KB)\n",
            "Non-trainable params: 512 (2.00 KB)\n",
            "_________________________________________________________________\n"
          ]
        }
      ],
      "source": [
        "model.summary()"
      ]
    },
    {
      "cell_type": "code",
      "execution_count": null,
      "metadata": {
        "colab": {
          "base_uri": "https://localhost:8080/",
          "height": 976
        },
        "id": "BiNj_6l-QO6g",
        "outputId": "b9e9ccac-a62e-46d7-c240-ac827daa074d"
      },
      "outputs": [
        {
          "name": "stdout",
          "output_type": "stream",
          "text": [
            "Epoch 1/15\n",
            "375/375 [==============================] - 19s 13ms/step - loss: 0.6547 - accuracy: 0.7843 - val_loss: 0.1226 - val_accuracy: 0.9830\n",
            "Epoch 2/15\n",
            "375/375 [==============================] - 5s 13ms/step - loss: 0.1353 - accuracy: 0.9607 - val_loss: 0.0432 - val_accuracy: 0.9868\n",
            "Epoch 3/15\n",
            "375/375 [==============================] - 5s 12ms/step - loss: 0.0956 - accuracy: 0.9735 - val_loss: 0.0353 - val_accuracy: 0.9896\n",
            "Epoch 4/15\n",
            "375/375 [==============================] - 5s 12ms/step - loss: 0.0779 - accuracy: 0.9776 - val_loss: 0.0311 - val_accuracy: 0.9916\n",
            "Epoch 5/15\n",
            "375/375 [==============================] - 5s 12ms/step - loss: 0.0647 - accuracy: 0.9805 - val_loss: 0.0309 - val_accuracy: 0.9912\n",
            "Epoch 6/15\n",
            "375/375 [==============================] - 4s 12ms/step - loss: 0.0598 - accuracy: 0.9827 - val_loss: 0.0292 - val_accuracy: 0.9919\n",
            "Epoch 7/15\n",
            "375/375 [==============================] - 5s 13ms/step - loss: 0.0541 - accuracy: 0.9843 - val_loss: 0.0297 - val_accuracy: 0.9920\n",
            "Epoch 8/15\n",
            "375/375 [==============================] - 4s 11ms/step - loss: 0.0533 - accuracy: 0.9844 - val_loss: 0.0296 - val_accuracy: 0.9918\n",
            "Epoch 9/15\n",
            "375/375 [==============================] - 4s 12ms/step - loss: 0.0486 - accuracy: 0.9859 - val_loss: 0.0293 - val_accuracy: 0.9928\n",
            "Epoch 10/15\n",
            "375/375 [==============================] - 5s 13ms/step - loss: 0.0452 - accuracy: 0.9868 - val_loss: 0.0295 - val_accuracy: 0.9923\n",
            "Epoch 11/15\n",
            "375/375 [==============================] - 4s 11ms/step - loss: 0.0408 - accuracy: 0.9879 - val_loss: 0.0275 - val_accuracy: 0.9926\n",
            "Epoch 12/15\n",
            "375/375 [==============================] - 5s 12ms/step - loss: 0.0416 - accuracy: 0.9877 - val_loss: 0.0318 - val_accuracy: 0.9914\n",
            "Epoch 13/15\n",
            "375/375 [==============================] - 5s 12ms/step - loss: 0.0393 - accuracy: 0.9876 - val_loss: 0.0304 - val_accuracy: 0.9919\n",
            "Epoch 14/15\n",
            "375/375 [==============================] - 5s 15ms/step - loss: 0.0381 - accuracy: 0.9882 - val_loss: 0.0321 - val_accuracy: 0.9923\n",
            "Epoch 15/15\n",
            "375/375 [==============================] - 6s 16ms/step - loss: 0.0351 - accuracy: 0.9891 - val_loss: 0.0279 - val_accuracy: 0.9928\n"
          ]
        },
        {
          "name": "stderr",
          "output_type": "stream",
          "text": [
            "<ipython-input-9-a976a21f7486>:6: FutureWarning: The frame.append method is deprecated and will be removed from pandas in a future version. Use pandas.concat instead.\n",
            "  result=result.append(iter, ignore_index=True)\n"
          ]
        },
        {
          "data": {
            "image/png": "[encoded data removed]",
            "text/plain": [
              "<Figure size 1800x500 with 2 Axes>"
            ]
          },
          "metadata": {},
          "output_type": "display_data"
        }
      ],
      "source": [
        "# запуск модели:\n",
        "\n",
        "history = model.fit(x_train, y_train, batch_size=batchSize, epochs=numbersEpochs, validation_split=0.2, verbose=1) # validation_data=(x_val, y_val)\n",
        "\n",
        "iter={'слой регуляции':'Dropout(0.5) BatchNormalization', 'функция ошибок':lossFunction,'оптимизатор':myOptimizer,'в первом слое':incomingLayer,'в скрытых слоях':hiddenLayers, 'кол-во скрытых слоёв':allHiddenLayers, 'функция активации':'softmax', 'количество эпох':numbersEpochs, 'batch_size':batchSize, 'accuracy':max(history.history['accuracy']), 'val_accuracy':max(history.history['val_accuracy']),'loss':min(history.history['loss']), 'va[_loss':min(history.history['val_loss'])}\n",
        "result=result.append(iter, ignore_index=True)\n",
        "utils.plot_model(model, to_file='model_plot.png', show_shapes=True, show_layer_names=False)\n",
        "\n",
        "\n",
        "# Т А Б Л И Ц Ы:\n",
        "\n",
        "plt.figure(figsize=(18,5))\n",
        "\n",
        "# таблица правильных ответов\n",
        "plt.subplot(1,2,1)\n",
        "plt.plot(history.history['accuracy'],label='Верные ответы на обучающем наборе')\n",
        "plt.plot(history.history['val_accuracy'],label='Верные ответы на проверочном наборе')\n",
        "plt.xlabel('Эпохи')\n",
        "plt.ylabel('правильные')\n",
        "plt.legend()\n",
        "plt.grid(which = 'major', color = 'black', alpha = 0.3) # включаю и настраиваю отображение основной сетки\n",
        "plt.minorticks_on() # включаю отображение дополнительной сетки\n",
        "plt.grid(which = 'minor', color = 'gray', linestyle = '--' , alpha = 0.3) # настраиваю отображение дополнительной сетки\n",
        "#plt.show()\n",
        "\n",
        "# таблица ошибок\n",
        "plt.subplot(1,2,2)\n",
        "plt.plot(history.history['loss'],label='ошибки на обучающем наборе')\n",
        "plt.plot(history.history['val_loss'],label='ошибки на проверочном наборе')\n",
        "plt.xlabel('Эпохи')\n",
        "plt.ylabel('ошибки')\n",
        "plt.legend()\n",
        "plt.grid(which = 'major', color = 'black', alpha = 0.3) # включаю и настраиваю отображение основной сетки\n",
        "plt.minorticks_on() # включаю отображение дополнительной сетки\n",
        "plt.grid(which = 'minor', color = 'gray', linestyle = '--' , alpha = 0.3) # настраиваю отображение дополнительной сетки\n",
        "#plt.show()"
      ]
    },
    {
      "cell_type": "code",
      "execution_count": null,
      "metadata": {
        "colab": {
          "base_uri": "https://localhost:8080/",
          "height": 153
        },
        "id": "AMljXxmaQQzJ",
        "outputId": "67bf10e4-7031-4a1c-d50f-0d24c4ce95fe"
      },
      "outputs": [
        {
          "data": {
            "text/html": [
              "\n",
              "  <div id=\"df-981d0d3f-d33d-43be-815d-285643af7bd4\" class=\"colab-df-container\">\n",
              "    <div>\n",
              "<style scoped>\n",
              "    .dataframe tbody tr th:only-of-type {\n",
              "        vertical-align: middle;\n",
              "    }\n",
              "\n",
              "    .dataframe tbody tr th {\n",
              "        vertical-align: top;\n",
              "    }\n",
              "\n",
              "    .dataframe thead th {\n",
              "        text-align: right;\n",
              "    }\n",
              "</style>\n",
              "<table border=\"1\" class=\"dataframe\">\n",
              "  <thead>\n",
              "    <tr style=\"text-align: right;\">\n",
              "      <th></th>\n",
              "      <th>слой регуляции</th>\n",
              "      <th>функция ошибок</th>\n",
              "      <th>оптимизатор</th>\n",
              "      <th>в первом слое</th>\n",
              "      <th>в скрытых слоях</th>\n",
              "      <th>кол-во скрытых слоёв</th>\n",
              "      <th>функция активации</th>\n",
              "      <th>количество эпох</th>\n",
              "      <th>batch_size</th>\n",
              "      <th>accuracy</th>\n",
              "      <th>val_accuracy</th>\n",
              "      <th>loss</th>\n",
              "      <th>va[_loss</th>\n",
              "    </tr>\n",
              "  </thead>\n",
              "  <tbody>\n",
              "    <tr>\n",
              "      <th>0</th>\n",
              "      <td>Dropout(0.5) BatchNormalization</td>\n",
              "      <td>categorical_crossentropy</td>\n",
              "      <td>&lt;class 'keras.src.optimizers.adam.Adam'&gt;</td>\n",
              "      <td>32</td>\n",
              "      <td>256</td>\n",
              "      <td>1</td>\n",
              "      <td>softmax</td>\n",
              "      <td>15</td>\n",
              "      <td>128</td>\n",
              "      <td>0.989083</td>\n",
              "      <td>0.992833</td>\n",
              "      <td>0.03515</td>\n",
              "      <td>0.027547</td>\n",
              "    </tr>\n",
              "  </tbody>\n",
              "</table>\n",
              "</div>\n",
              "    <div class=\"colab-df-buttons\">\n",
              "\n",
              "  <div class=\"colab-df-container\">\n",
              "    <button class=\"colab-df-convert\" onclick=\"convertToInteractive('df-981d0d3f-d33d-43be-815d-285643af7bd4')\"\n",
              "            title=\"Convert this dataframe to an interactive table.\"\n",
              "            style=\"display:none;\">\n",
              "\n",
              "  <svg xmlns=\"http://www.w3.org/2000/svg\" height=\"24px\" viewBox=\"0 -960 960 960\">\n",
              "    <path d=\"M120-120v-720h720v720H120Zm60-500h600v-160H180v160Zm220 220h160v-160H400v160Zm0 220h160v-160H400v160ZM180-400h160v-160H180v160Zm440 0h160v-160H620v160ZM180-180h160v-160H180v160Zm440 0h160v-160H620v160Z\"/>\n",
              "  </svg>\n",
              "    </button>\n",
              "\n",
              "  <style>\n",
              "    .colab-df-container {\n",
              "      display:flex;\n",
              "      gap: 12px;\n",
              "    }\n",
              "\n",
              "    .colab-df-convert {\n",
              "      background-color: #E8F0FE;\n",
              "      border: none;\n",
              "      border-radius: 50%;\n",
              "      cursor: pointer;\n",
              "      display: none;\n",
              "      fill: #1967D2;\n",
              "      height: 32px;\n",
              "      padding: 0 0 0 0;\n",
              "      width: 32px;\n",
              "    }\n",
              "\n",
              "    .colab-df-convert:hover {\n",
              "      background-color: #E2EBFA;\n",
              "      box-shadow: 0px 1px 2px rgba(60, 64, 67, 0.3), 0px 1px 3px 1px rgba(60, 64, 67, 0.15);\n",
              "      fill: #174EA6;\n",
              "    }\n",
              "\n",
              "    .colab-df-buttons div {\n",
              "      margin-bottom: 4px;\n",
              "    }\n",
              "\n",
              "    [theme=dark] .colab-df-convert {\n",
              "      background-color: #3B4455;\n",
              "      fill: #D2E3FC;\n",
              "    }\n",
              "\n",
              "    [theme=dark] .colab-df-convert:hover {\n",
              "      background-color: #434B5C;\n",
              "      box-shadow: 0px 1px 3px 1px rgba(0, 0, 0, 0.15);\n",
              "      filter: drop-shadow(0px 1px 2px rgba(0, 0, 0, 0.3));\n",
              "      fill: #FFFFFF;\n",
              "    }\n",
              "  </style>\n",
              "\n",
              "    <script>\n",
              "      const buttonEl =\n",
              "        document.querySelector('#df-981d0d3f-d33d-43be-815d-285643af7bd4 button.colab-df-convert');\n",
              "      buttonEl.style.display =\n",
              "        google.colab.kernel.accessAllowed ? 'block' : 'none';\n",
              "\n",
              "      async function convertToInteractive(key) {\n",
              "        const element = document.querySelector('#df-981d0d3f-d33d-43be-815d-285643af7bd4');\n",
              "        const dataTable =\n",
              "          await google.colab.kernel.invokeFunction('convertToInteractive',\n",
              "                                                    [key], {});\n",
              "        if (!dataTable) return;\n",
              "\n",
              "        const docLinkHtml = 'Like what you see? Visit the ' +\n",
              "          '<a target=\"_blank\" href=https://colab.research.google.com/notebooks/data_table.ipynb>data table notebook</a>'\n",
              "          + ' to learn more about interactive tables.';\n",
              "        element.innerHTML = '';\n",
              "        dataTable['output_type'] = 'display_data';\n",
              "        await google.colab.output.renderOutput(dataTable, element);\n",
              "        const docLink = document.createElement('div');\n",
              "        docLink.innerHTML = docLinkHtml;\n",
              "        element.appendChild(docLink);\n",
              "      }\n",
              "    </script>\n",
              "  </div>\n",
              "\n",
              "    </div>\n",
              "  </div>\n"
            ],
            "text/plain": [
              "                    слой регуляции            функция ошибок  \\\n",
              "0  Dropout(0.5) BatchNormalization  categorical_crossentropy   \n",
              "\n",
              "                                оптимизатор  в первом слое  в скрытых слоях  \\\n",
              "0  <class 'keras.src.optimizers.adam.Adam'>             32              256   \n",
              "\n",
              "   кол-во скрытых слоёв функция активации  количество эпох  batch_size  \\\n",
              "0                     1           softmax               15         128   \n",
              "\n",
              "   accuracy  val_accuracy     loss  va[_loss  \n",
              "0  0.989083      0.992833  0.03515  0.027547  "
            ]
          },
          "execution_count": 10,
          "metadata": {},
          "output_type": "execute_result"
        }
      ],
      "source": [
        "result"
      ]
    },
    {
      "cell_type": "code",
      "execution_count": null,
      "metadata": {
        "colab": {
          "base_uri": "https://localhost:8080/"
        },
        "id": "86NKcUHoQlcj",
        "outputId": "7376d1ba-02a4-4a31-c5fe-4185e2b13edf"
      },
      "outputs": [
        {
          "name": "stdout",
          "output_type": "stream",
          "text": [
            "313/313 [==============================] - 1s 4ms/step - loss: 0.0210 - accuracy: 0.9931\n",
            "Процент верных ответов:  99.0 %\n"
          ]
        }
      ],
      "source": [
        "scores = model.evaluate(x_test, y_test, verbose=1)\n",
        "print('Процент верных ответов: ', round(scores[1], 2) * 100, '%')"
      ]
    },
    {
      "cell_type": "code",
      "execution_count": null,
      "metadata": {
        "colab": {
          "base_uri": "https://localhost:8080/"
        },
        "id": "ICWIyVv9QnKX",
        "outputId": "c570b780-79d1-4179-9a77-771f48caf4ac"
      },
      "outputs": [
        {
          "name": "stderr",
          "output_type": "stream",
          "text": [
            "/usr/local/lib/python3.10/dist-packages/keras/src/engine/training.py:3079: UserWarning: You are saving your model as an HDF5 file via `model.save()`. This file format is considered legacy. We recommend using instead the native Keras format, e.g. `model.save('my_model.keras')`.\n",
            "  saving_api.save_model(\n"
          ]
        }
      ],
      "source": [
        "# сохраняю модель\n",
        "model.save('model_with_numbers.h5')"
      ]
    },
    {
      "cell_type": "code",
      "execution_count": null,
      "metadata": {
        "id": "MVr6IsQumyXL"
      },
      "outputs": [],
      "source": [
        "# сохраняю веса\n",
        "model.save_weights('weights_with_numbers.h5')"
      ]
    },
    {
      "cell_type": "markdown",
      "metadata": {
        "id": "U6MCXxcdgmNF"
      },
      "source": [
        "## сохранение модели"
      ]
    },
    {
      "cell_type": "markdown",
      "source": [
        "скачиваю архив с изображениями 10-ти рукописных цифр"
      ],
      "metadata": {
        "id": "IQ5j4IqYT0p2"
      }
    },
    {
      "cell_type": "code",
      "execution_count": 1,
      "metadata": {
        "colab": {
          "base_uri": "https://localhost:8080/",
          "height": 35
        },
        "id": "y7ml6wRc1MwS",
        "outputId": "61d1fbc8-9fb4-4610-c470-3d274035342f"
      },
      "outputs": [
        {
          "output_type": "execute_result",
          "data": {
            "text/plain": [
              "'0-9.zip'"
            ],
            "application/vnd.google.colaboratory.intrinsic+json": {
              "type": "string"
            }
          },
          "metadata": {},
          "execution_count": 1
        }
      ],
      "source": [
        "import gdown\n",
        "\n",
        "gdown.download('https://storage.yandexcloud.net/aiueducation/Content/base/l6/0-9.zip', None, quiet=True)"
      ]
    },
    {
      "cell_type": "markdown",
      "source": [
        "распаковываю архив"
      ],
      "metadata": {
        "id": "QGUtG5sCUBNm"
      }
    },
    {
      "cell_type": "code",
      "execution_count": 2,
      "metadata": {
        "id": "HTM8K0091OSu"
      },
      "outputs": [],
      "source": [
        "# Распакуем архив\n",
        "!unzip -q 0-9.zip"
      ]
    },
    {
      "cell_type": "code",
      "source": [
        "rm 0-9.zip\n"
      ],
      "metadata": {
        "id": "bJLQE_quUlfS"
      },
      "execution_count": 3,
      "outputs": []
    },
    {
      "cell_type": "code",
      "source": [
        "model = load_model('/content/model_with_numbers.h5')"
      ],
      "metadata": {
        "id": "6g_SL8fNV0HF"
      },
      "execution_count": 9,
      "outputs": []
    },
    {
      "cell_type": "code",
      "source": [
        "model.summary()"
      ],
      "metadata": {
        "colab": {
          "base_uri": "https://localhost:8080/"
        },
        "id": "LFywiz5ZV9Wg",
        "outputId": "f23c93cc-13f4-48ce-8657-b313f3add40e"
      },
      "execution_count": 13,
      "outputs": [
        {
          "output_type": "stream",
          "name": "stdout",
          "text": [
            "Model: \"sequential\"\n",
            "_________________________________________________________________\n",
            " Layer (type)                Output Shape              Param #   \n",
            "=================================================================\n",
            " conv2d (Conv2D)             (None, 28, 28, 32)        320       \n",
            "                                                                 \n",
            " conv2d_1 (Conv2D)           (None, 28, 28, 64)        18496     \n",
            "                                                                 \n",
            " max_pooling2d (MaxPooling2  (None, 9, 9, 64)          0         \n",
            " D)                                                              \n",
            "                                                                 \n",
            " spatial_dropout2d (Spatial  (None, 9, 9, 64)          0         \n",
            " Dropout2D)                                                      \n",
            "                                                                 \n",
            " conv2d_2 (Conv2D)           (None, 9, 9, 64)          36928     \n",
            "                                                                 \n",
            " max_pooling2d_1 (MaxPoolin  (None, 3, 3, 64)          0         \n",
            " g2D)                                                            \n",
            "                                                                 \n",
            " spatial_dropout2d_1 (Spati  (None, 3, 3, 64)          0         \n",
            " alDropout2D)                                                    \n",
            "                                                                 \n",
            " conv2d_3 (Conv2D)           (None, 3, 3, 64)          36928     \n",
            "                                                                 \n",
            " max_pooling2d_2 (MaxPoolin  (None, 1, 1, 64)          0         \n",
            " g2D)                                                            \n",
            "                                                                 \n",
            " spatial_dropout2d_2 (Spati  (None, 1, 1, 64)          0         \n",
            " alDropout2D)                                                    \n",
            "                                                                 \n",
            " flatten (Flatten)           (None, 64)                0         \n",
            "                                                                 \n",
            " dense (Dense)               (None, 256)               16640     \n",
            "                                                                 \n",
            " dropout (Dropout)           (None, 256)               0         \n",
            "                                                                 \n",
            " batch_normalization (Batch  (None, 256)               1024      \n",
            " Normalization)                                                  \n",
            "                                                                 \n",
            " dense_1 (Dense)             (None, 10)                2570      \n",
            "                                                                 \n",
            "=================================================================\n",
            "Total params: 112906 (441.04 KB)\n",
            "Trainable params: 112394 (439.04 KB)\n",
            "Non-trainable params: 512 (2.00 KB)\n",
            "_________________________________________________________________\n"
          ]
        }
      ]
    },
    {
      "cell_type": "code",
      "execution_count": 92,
      "metadata": {
        "id": "_eICgBNhgjgL"
      },
      "outputs": [],
      "source": [
        "#в скрипте должны быть импортированы все необходимые библиотеки для запуска модели, открытия и подготовки изображения.\n",
        "from PIL import Image\n",
        "import numpy as np\n",
        "from tensorflow.keras.models import load_model\n",
        "\n",
        "# она должна иметь имя predict, так как сервер демо-панели будет вызывать функцию именно с таким именем;\n",
        "def predict(\n",
        "\n",
        "    # должна иметь первый обязательный аргумент img_path - путь к тестовому изображению на сервере демо-панели;\n",
        "    img_path='/content/0-9/0.jpg',\n",
        "\n",
        "    #она должна иметь второй обязательный аргумент model_path - путь к модели на сервере демо-панели;\n",
        "    model_path='/content/model_with_numbers.h5'):\n",
        "\n",
        "    classes = {0: '0',\n",
        "               1: '1',\n",
        "               2: '2',\n",
        "               3: '3',\n",
        "               4: '4',\n",
        "               5: '5',\n",
        "               6: '6',\n",
        "               7: '7',\n",
        "               8: '8',\n",
        "               9: '9'}\n",
        "\n",
        "    model = load_model(model_path)\n",
        "\n",
        "    img_width, img_height = 28, 28\n",
        "\n",
        "    img = Image.open(img_path).resize((img_height, img_width))\n",
        "    image = np.array(img.convert('L'))\n",
        "    image = 255 - np.array(image)\n",
        "    image[image<50] = 0\n",
        "\n",
        "    image = np.expand_dims(image, axis=0)\n",
        "    image = np.expand_dims(image, axis=-1)\n",
        "\n",
        "    cls_image = np.argmax(model.predict(image))\n",
        "\n",
        "    print(classes[cls_image])"
      ]
    },
    {
      "cell_type": "code",
      "execution_count": 93,
      "metadata": {
        "colab": {
          "base_uri": "https://localhost:8080/"
        },
        "id": "utL0BQyh4wsO",
        "outputId": "88d70854-1523-482f-9cba-a624c455ddb8"
      },
      "outputs": [
        {
          "output_type": "stream",
          "name": "stdout",
          "text": [
            "1/1 [==============================] - 0s 120ms/step\n",
            "5\n"
          ]
        }
      ],
      "source": [
        "predict(img_path='/content/0-9/5.jpg', model_path='/content/model_with_numbers.h5')"
      ]
    },
    {
      "cell_type": "code",
      "execution_count": 94,
      "metadata": {
        "id": "CfJ0mjF8_CAs"
      },
      "outputs": [],
      "source": [
        "# помещаю свой код в переменну:\n",
        "my_text_code = '''\n",
        "#в скрипте должны быть импортированы все необходимые библиотеки для запуска модели, открытия и подготовки изображения.\n",
        "from PIL import Image\n",
        "import numpy as np\n",
        "from tensorflow.keras.models import load_model\n",
        "\n",
        "# она должна иметь имя predict, так как сервер демо-панели будет вызывать функцию именно с таким именем;\n",
        "def predict(\n",
        "\n",
        "    # должна иметь первый обязательный аргумент img_path - путь к тестовому изображению на сервере демо-панели;\n",
        "    img_path='/content/0-9/1.jpg',\n",
        "\n",
        "    #она должна иметь второй обязательный аргумент model_path - путь к модели на сервере демо-панели;\n",
        "    model_path='/content/model_with_numbers.h5'):\n",
        "    classes = {0: '0',\n",
        "               1: '1',\n",
        "               2: '2',\n",
        "               3: '3',\n",
        "               4: '4',\n",
        "               5: '5',\n",
        "               6: '6',\n",
        "               7: '7',\n",
        "               8: '8',\n",
        "               9: '9'}\n",
        "\n",
        "    model = load_model(model_path)\n",
        "\n",
        "    img_width, img_height = 28, 28\n",
        "\n",
        "    img = Image.open(img_path).resize((img_height, img_width))\n",
        "    image = np.array(img.convert('L'), dtype='float64') / 255\n",
        "\n",
        "    image = np.expand_dims(image, axis=0)\n",
        "    image = np.expand_dims(image, axis=-1)\n",
        "\n",
        "    cls_image = np.argmax(model.predict(image))\n",
        "\n",
        "    print(classes[cls_image])\n",
        "'''"
      ]
    },
    {
      "cell_type": "code",
      "source": [
        "with open('my_code.py', 'w') as f:\n",
        "  f.write(my_text_code.strip())"
      ],
      "metadata": {
        "id": "LDX_t30WXNeN"
      },
      "execution_count": 95,
      "outputs": []
    },
    {
      "cell_type": "markdown",
      "source": [
        "подберем десять различных изображений, соответствующих классам датасета. Эти десять изображений будут отображаться на странице демо-панели в качестве пресетов. Загрузим их в директорию Colab под порядковыми номерами классов"
      ],
      "metadata": {
        "id": "-ZiFcPYKYnRK"
      }
    },
    {
      "cell_type": "code",
      "source": [
        "from shutil import copyfile         # Библиотека для работы с файлами\n",
        "\n",
        "for i in range(1,10):\n",
        "    copyfile('/content/0-9/'+str(i)+'.jpg', '/content/'+str(i)+'.jpg')"
      ],
      "metadata": {
        "id": "vUsP8hQnYXhY"
      },
      "execution_count": 96,
      "outputs": []
    },
    {
      "cell_type": "code",
      "source": [
        "my_tags = '''\n",
        "0\n",
        "1\n",
        "2\n",
        "3\n",
        "4\n",
        "5\n",
        "6\n",
        "7\n",
        "8\n",
        "9\n",
        "\n",
        "'''"
      ],
      "metadata": {
        "id": "YMQpDh8HY2wT"
      },
      "execution_count": 97,
      "outputs": []
    },
    {
      "cell_type": "code",
      "source": [
        "with open('my_tags.txt', 'w') as f:\n",
        "  f.write(my_tags.strip())       # Запись в файл переменной text"
      ],
      "metadata": {
        "id": "gJWcuaJoZNkH"
      },
      "execution_count": 98,
      "outputs": []
    },
    {
      "cell_type": "markdown",
      "source": [
        "упаковываю классы метки и картинки в zip"
      ],
      "metadata": {
        "id": "qWzyRuihZ-4-"
      }
    },
    {
      "cell_type": "code",
      "source": [
        "import os\n",
        "from zipfile import ZipFile as Zip             # Модуль для работы с zip-архивами\n",
        "\n",
        "# Список всех файлов\n",
        "numbers_for_archive = ['model_with_numbers.h5', 'my_code.py', 'my_tags.txt', *[f'{i}.jpg' for i in range(1,10)]]\n",
        "\n",
        "zipArchive = Zip('/content/my1Archive.zip', 'w')  # Открытие файла, если такого не существует - будет создан новый\n",
        "\n",
        "for file in numbers_for_archive:               # Для всех всем нужных файлов:\n",
        "    if os.path.exists(file):                   # Если файл существует,\n",
        "        zipArchive.write(file)                 # то добавление его в архив\n",
        "    else:\n",
        "        print(f'Файл {file} отсутствует!')     # иначе вывод на экран названия отсутствующего файла\n",
        "\n",
        "zipArchive.close()                             # В финале архив следует закрыть, как и обычный файл"
      ],
      "metadata": {
        "id": "Cx51FC7zZuew"
      },
      "execution_count": 99,
      "outputs": []
    },
    {
      "cell_type": "markdown",
      "source": [
        "скачиваю zip на компьютер, чтобы потом загрузить его в приложение"
      ],
      "metadata": {
        "id": "eIebYymyb2PQ"
      }
    },
    {
      "cell_type": "code",
      "source": [
        "from google.colab import files               # Функция для скачивания данных на локальный компьютер\n",
        "\n",
        "files.download(filename='my1Archive.zip')       # Скачивание готового архива\n",
        "\n",
        "print('Архив загружен')"
      ],
      "metadata": {
        "colab": {
          "base_uri": "https://localhost:8080/",
          "height": 35
        },
        "id": "aSfX5p6Yb1Jc",
        "outputId": "e3063dd7-4b65-4a17-ac98-5b1c57bfa968"
      },
      "execution_count": 100,
      "outputs": [
        {
          "output_type": "display_data",
          "data": {
            "text/plain": [
              "<IPython.core.display.Javascript object>"
            ],
            "application/javascript": [
              "\n",
              "    async function download(id, filename, size) {\n",
              "      if (!google.colab.kernel.accessAllowed) {\n",
              "        return;\n",
              "      }\n",
              "      const div = document.createElement('div');\n",
              "      const label = document.createElement('label');\n",
              "      label.textContent = `Downloading \"${filename}\": `;\n",
              "      div.appendChild(label);\n",
              "      const progress = document.createElement('progress');\n",
              "      progress.max = size;\n",
              "      div.appendChild(progress);\n",
              "      document.body.appendChild(div);\n",
              "\n",
              "      const buffers = [];\n",
              "      let downloaded = 0;\n",
              "\n",
              "      const channel = await google.colab.kernel.comms.open(id);\n",
              "      // Send a message to notify the kernel that we're ready.\n",
              "      channel.send({})\n",
              "\n",
              "      for await (const message of channel.messages) {\n",
              "        // Send a message to notify the kernel that we're ready.\n",
              "        channel.send({})\n",
              "        if (message.buffers) {\n",
              "          for (const buffer of message.buffers) {\n",
              "            buffers.push(buffer);\n",
              "            downloaded += buffer.byteLength;\n",
              "            progress.value = downloaded;\n",
              "          }\n",
              "        }\n",
              "      }\n",
              "      const blob = new Blob(buffers, {type: 'application/binary'});\n",
              "      const a = document.createElement('a');\n",
              "      a.href = window.URL.createObjectURL(blob);\n",
              "      a.download = filename;\n",
              "      div.appendChild(a);\n",
              "      a.click();\n",
              "      div.remove();\n",
              "    }\n",
              "  "
            ]
          },
          "metadata": {}
        },
        {
          "output_type": "display_data",
          "data": {
            "text/plain": [
              "<IPython.core.display.Javascript object>"
            ],
            "application/javascript": [
              "download(\"download_91f1e866-1ae0-4ab4-9530-83afde055bd6\", \"my1Archive.zip\", 1435801)"
            ]
          },
          "metadata": {}
        },
        {
          "output_type": "stream",
          "name": "stdout",
          "text": [
            "Архив загружен\n"
          ]
        }
      ]
    }
  ],
  "metadata": {
    "colab": {
      "provenance": [],
      "include_colab_link": true
    },
    "kernelspec": {
      "display_name": "Python 3",
      "name": "python3"
    },
    "language_info": {
      "name": "python"
    }
  },
  "nbformat": 4,
  "nbformat_minor": 0
}